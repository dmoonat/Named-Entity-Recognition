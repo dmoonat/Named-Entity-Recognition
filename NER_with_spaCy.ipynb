{
  "nbformat": 4,
  "nbformat_minor": 0,
  "metadata": {
    "colab": {
      "name": "NER with spaCy.ipynb",
      "provenance": [],
      "collapsed_sections": []
    },
    "kernelspec": {
      "name": "python3",
      "display_name": "Python 3"
    },
    "language_info": {
      "name": "python"
    }
  },
  "cells": [
    {
      "cell_type": "markdown",
      "source": [
        "## Named Entity Recognition"
      ],
      "metadata": {
        "id": "7gEh1giXeIKL"
      }
    },
    {
      "cell_type": "markdown",
      "source": [
        "- Information Extraction\n",
        "- Detect and classify the named entities in unstructured data"
      ],
      "metadata": {
        "id": "xuqYZehqeNaL"
      }
    },
    {
      "cell_type": "code",
      "execution_count": 1,
      "metadata": {
        "id": "_ZVAJWeLeGvR"
      },
      "outputs": [],
      "source": [
        "#load spacy\n",
        "import spacy"
      ]
    },
    {
      "cell_type": "code",
      "source": [
        "nlp = spacy.load(\"en_core_web_sm\")"
      ],
      "metadata": {
        "id": "jjKbFVYMLuLf"
      },
      "execution_count": 2,
      "outputs": []
    },
    {
      "cell_type": "code",
      "source": [
        "# Load English tokenizer, tagger, parser and NER\n",
        "nlp = spacy.load(\"en_core_web_sm\")"
      ],
      "metadata": {
        "id": "7PNCVja7fVhr"
      },
      "execution_count": 3,
      "outputs": []
    },
    {
      "cell_type": "code",
      "source": [
        "# Process whole documents\n",
        "text = (\"When Sebastian Thrun started working on self-driving cars at \"\n",
        "        \"Google in 2007, few people outside of the company took him \"\n",
        "        \"seriously. “I can tell you very senior CEOs of major American \"\n",
        "        \"car companies would shake my hand and turn away because I wasn’t \"\n",
        "        \"worth talking to,” said Thrun, in an interview with Recode earlier \"\n",
        "        \"this week.\")\n",
        "doc = nlp(text)"
      ],
      "metadata": {
        "id": "4VGnE5RXfYmi"
      },
      "execution_count": 3,
      "outputs": []
    },
    {
      "cell_type": "code",
      "source": [
        "# Analyze syntax\n",
        "print(\"Noun phrases:\", [chunk.text for chunk in doc.noun_chunks])\n",
        "print(\"Verbs:\", [token.lemma_ for token in doc if token.pos_ == \"VERB\"])"
      ],
      "metadata": {
        "colab": {
          "base_uri": "https://localhost:8080/"
        },
        "id": "zr2BvfJofatm",
        "outputId": "63640672-cf48-4fa6-ab61-70c4d77253ee"
      },
      "execution_count": 4,
      "outputs": [
        {
          "output_type": "stream",
          "name": "stdout",
          "text": [
            "Noun phrases: ['Sebastian Thrun', 'self-driving cars', 'Google', 'few people', 'the company', 'him', 'I', 'you', 'very senior CEOs', 'major American car companies', 'my hand', 'I', 'Thrun', 'an interview', 'Recode']\n",
            "Verbs: ['start', 'work', 'drive', 'take', 'tell', 'shake', 'turn', 'talk', 'say']\n"
          ]
        }
      ]
    },
    {
      "cell_type": "code",
      "source": [
        "# Find named entities, phrases and concepts\n",
        "for entity in doc.ents:\n",
        "    print(entity.text, entity.label_)"
      ],
      "metadata": {
        "colab": {
          "base_uri": "https://localhost:8080/"
        },
        "id": "_BXeDh9dfdKe",
        "outputId": "f5dbdb74-409e-4aa3-d20c-58aa72eaa5bf"
      },
      "execution_count": 5,
      "outputs": [
        {
          "output_type": "stream",
          "name": "stdout",
          "text": [
            "Sebastian Thrun PERSON\n",
            "2007 DATE\n",
            "American NORP\n",
            "Thrun PERSON\n",
            "Recode ORG\n",
            "earlier this week DATE\n"
          ]
        }
      ]
    },
    {
      "cell_type": "code",
      "source": [
        "text = \"When Sebastian Thrun started working on self-driving cars at Google in 2007, few people outside of the company took him seriously.\"\n",
        "doc = nlp(text)"
      ],
      "metadata": {
        "id": "8XfvsDemffNd"
      },
      "execution_count": 6,
      "outputs": []
    },
    {
      "cell_type": "code",
      "source": [
        "# Find named entities, phrases and concepts\n",
        "for entity in doc.ents:\n",
        "    print(entity.text, entity.label_)"
      ],
      "metadata": {
        "colab": {
          "base_uri": "https://localhost:8080/"
        },
        "id": "G2AVohmrLbT9",
        "outputId": "f97f8ee4-d47d-4da7-ded9-ee8c3bc4a916"
      },
      "execution_count": 7,
      "outputs": [
        {
          "output_type": "stream",
          "name": "stdout",
          "text": [
            "Sebastian Thrun PERSON\n",
            "2007 DATE\n"
          ]
        }
      ]
    },
    {
      "cell_type": "markdown",
      "source": [
        "### Visualization"
      ],
      "metadata": {
        "id": "uQn6zn9nM2Q6"
      }
    },
    {
      "cell_type": "code",
      "source": [
        "from spacy import displacy"
      ],
      "metadata": {
        "id": "60Y7qrzXazri"
      },
      "execution_count": 4,
      "outputs": []
    },
    {
      "cell_type": "code",
      "source": [
        "displacy.render(doc, style=\"ent\", jupyter=True)"
      ],
      "metadata": {
        "colab": {
          "base_uri": "https://localhost:8080/",
          "height": 52
        },
        "id": "jysHYn4yM1GN",
        "outputId": "01fd7fb9-42ea-4e06-8fcf-39ce4f215bc1"
      },
      "execution_count": 11,
      "outputs": [
        {
          "output_type": "display_data",
          "data": {
            "text/plain": [
              "<IPython.core.display.HTML object>"
            ],
            "text/html": [
              "<span class=\"tex2jax_ignore\"><div class=\"entities\" style=\"line-height: 2.5; direction: ltr\">When \n",
              "<mark class=\"entity\" style=\"background: #aa9cfc; padding: 0.45em 0.6em; margin: 0 0.25em; line-height: 1; border-radius: 0.35em;\">\n",
              "    Sebastian Thrun\n",
              "    <span style=\"font-size: 0.8em; font-weight: bold; line-height: 1; border-radius: 0.35em; vertical-align: middle; margin-left: 0.5rem\">PERSON</span>\n",
              "</mark>\n",
              " started working on self-driving cars at Google in \n",
              "<mark class=\"entity\" style=\"background: #bfe1d9; padding: 0.45em 0.6em; margin: 0 0.25em; line-height: 1; border-radius: 0.35em;\">\n",
              "    2007\n",
              "    <span style=\"font-size: 0.8em; font-weight: bold; line-height: 1; border-radius: 0.35em; vertical-align: middle; margin-left: 0.5rem\">DATE</span>\n",
              "</mark>\n",
              ", few people outside of the company took him seriously.</div></span>"
            ]
          },
          "metadata": {}
        }
      ]
    },
    {
      "cell_type": "markdown",
      "source": [
        "### Different text context"
      ],
      "metadata": {
        "id": "qshYoYembroH"
      }
    },
    {
      "cell_type": "code",
      "source": [
        "text = \"Apples are good for health\"\n",
        "doc = nlp(text)"
      ],
      "metadata": {
        "id": "ZkRRGBMVM6iv"
      },
      "execution_count": 5,
      "outputs": []
    },
    {
      "cell_type": "code",
      "source": [
        "doc.ents"
      ],
      "metadata": {
        "colab": {
          "base_uri": "https://localhost:8080/"
        },
        "id": "_WYuAbf6a6pq",
        "outputId": "15a7c3fa-a123-4e2c-8027-c9e4081adfa8"
      },
      "execution_count": 7,
      "outputs": [
        {
          "output_type": "execute_result",
          "data": {
            "text/plain": [
              "()"
            ]
          },
          "metadata": {},
          "execution_count": 7
        }
      ]
    },
    {
      "cell_type": "code",
      "source": [
        "displacy.render(doc, style=\"ent\", jupyter=True)"
      ],
      "metadata": {
        "colab": {
          "base_uri": "https://localhost:8080/",
          "height": 108
        },
        "id": "6K-YLCdJa0yi",
        "outputId": "27887ac9-864b-4913-a4b5-3c6f38ed31f3"
      },
      "execution_count": 6,
      "outputs": [
        {
          "output_type": "stream",
          "name": "stderr",
          "text": [
            "/usr/local/lib/python3.7/dist-packages/spacy/displacy/__init__.py:205: UserWarning: [W006] No entities to visualize found in Doc object. If this is surprising to you, make sure the Doc was processed using a model that supports named entity recognition, and check the `doc.ents` property manually if necessary.\n",
            "  warnings.warn(Warnings.W006)\n"
          ]
        },
        {
          "output_type": "display_data",
          "data": {
            "text/plain": [
              "<IPython.core.display.HTML object>"
            ],
            "text/html": [
              "<span class=\"tex2jax_ignore\"><div class=\"entities\" style=\"line-height: 2.5; direction: ltr\">Apples are good for health</div></span>"
            ]
          },
          "metadata": {}
        }
      ]
    },
    {
      "cell_type": "markdown",
      "source": [
        "- English model is not able to detect fruit (apples) as it was not trained on this particular category"
      ],
      "metadata": {
        "id": "vEXMqEHwbuS1"
      }
    },
    {
      "cell_type": "markdown",
      "source": [
        "<hr/>"
      ],
      "metadata": {
        "id": "_ojKpcybb5RL"
      }
    },
    {
      "cell_type": "markdown",
      "source": [
        "## Custom Train NER Pipeline"
      ],
      "metadata": {
        "id": "wRZJnUuUb6Og"
      }
    },
    {
      "cell_type": "markdown",
      "source": [
        "### Data Preparation"
      ],
      "metadata": {
        "id": "_omupWlEb8QJ"
      }
    },
    {
      "cell_type": "markdown",
      "source": [
        "- using http://agateteam.org/spacynerannotate/"
      ],
      "metadata": {
        "id": "tjK79n67fSuj"
      }
    },
    {
      "cell_type": "code",
      "source": [
        "train = [\n",
        "          (\"An average-sized strawberry has about 200 seeds on its outer surface and are quite edible.\",{\"entities\":[(17,27,\"Fruit\")]}),\n",
        "          (\"The outer skin of Guava is bitter tasting and thick, dark green for raw fruits and as the fruit ripens, the bitterness subsides. \",{\"entities\":[(18,23,\"Fruit\")]}),\n",
        "          (\"Grapes are one of the most widely grown types of fruits in the world, chiefly for the making of different wines. \",{\"entities\":[(0,6,\"Fruit\")]}),\n",
        "          (\"Watermelon is composed of 92 percent water and significant amounts of Vitamins and antioxidants. \",{\"entities\":[(0,10,\"Fruit\")]}),\n",
        "          (\"Papaya fruits are usually cylindrical in shape and the size can go beyond 20 inches. \",{\"entities\":[(0,6,\"Fruit\")]}),\n",
        "          (\"Mango, the King of the fruits is a drupe fruit that grows in tropical regions. \",{\"entities\":[(0,5,\"Fruit\")]}),\n",
        "          (\"undefined\",{\"entities\":[(0,6,\"Fruit\")]}),\n",
        "          (\"Oranges are great source of vitamin C\",{\"entities\":[(0,7,\"Fruit\")]}),\n",
        "          (\"A apple a day keeps doctor away. \",{\"entities\":[(2,7,\"Fruit\")]})\n",
        "        ]"
      ],
      "metadata": {
        "id": "RoenVh2vfQmq"
      },
      "execution_count": 8,
      "outputs": []
    },
    {
      "cell_type": "markdown",
      "source": [
        "### Convert data to .spacy format"
      ],
      "metadata": {
        "id": "ZsCF1PTlfitY"
      }
    },
    {
      "cell_type": "code",
      "source": [
        "import pandas as pd\n",
        "import os\n",
        "from tqdm import tqdm\n",
        "from spacy.tokens import DocBin\n",
        "\n",
        "db = DocBin() # create a DocBin object\n",
        "\n",
        "for text, annot in tqdm(train): # data in previous format\n",
        "    doc = nlp.make_doc(text) # create doc object from text\n",
        "    ents = []\n",
        "    for start, end, label in annot[\"entities\"]: # add character indexes\n",
        "        span = doc.char_span(start, end, label=label, alignment_mode=\"contract\")\n",
        "        if span is None:\n",
        "            print(\"Skipping entity\")\n",
        "        else:\n",
        "            ents.append(span)\n",
        "    doc.ents = ents # label the text with the ents\n",
        "    db.add(doc)\n",
        "\n",
        "db.to_disk(\"./train.spacy\") # save the docbin object"
      ],
      "metadata": {
        "colab": {
          "base_uri": "https://localhost:8080/"
        },
        "id": "-2L8pHCDfcqI",
        "outputId": "27d548b6-ec50-4168-d8cc-82b3c420832a"
      },
      "execution_count": 9,
      "outputs": [
        {
          "output_type": "stream",
          "name": "stderr",
          "text": [
            "100%|██████████| 9/9 [00:00<00:00, 1291.13it/s]"
          ]
        },
        {
          "output_type": "stream",
          "name": "stdout",
          "text": [
            "Skipping entity\n"
          ]
        },
        {
          "output_type": "stream",
          "name": "stderr",
          "text": [
            "\n"
          ]
        }
      ]
    },
    {
      "cell_type": "markdown",
      "source": [
        "### Create config file"
      ],
      "metadata": {
        "id": "SOC7RPGjhx2t"
      }
    },
    {
      "cell_type": "markdown",
      "source": [
        "- head over to https://spacy.io/usage/training#quickstart\n",
        "- complete the form and download the config file"
      ],
      "metadata": {
        "id": "_qhT6_G9jyP3"
      }
    },
    {
      "cell_type": "markdown",
      "source": [
        "![Web capture_19-6-2022_205111_spacy.io.jpeg](data:image/jpeg;base64,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)"
      ],
      "metadata": {
        "id": "M97SHxHuj1vp"
      }
    },
    {
      "cell_type": "markdown",
      "source": [
        "### Fill the remaining config "
      ],
      "metadata": {
        "id": "RnCkr7r2kCdh"
      }
    },
    {
      "cell_type": "code",
      "source": [
        "!python -m spacy init fill-config base_config.cfg config.cfg"
      ],
      "metadata": {
        "colab": {
          "base_uri": "https://localhost:8080/"
        },
        "id": "FLdGRi8Zgd7n",
        "outputId": "cc73e35f-5d30-4e31-d6d4-4ab6200fd4a5"
      },
      "execution_count": 10,
      "outputs": [
        {
          "output_type": "stream",
          "name": "stdout",
          "text": [
            "\u001b[38;5;2m✔ Auto-filled config with all values\u001b[0m\n",
            "\u001b[38;5;2m✔ Saved config\u001b[0m\n",
            "config.cfg\n",
            "You can now add your data and train your pipeline:\n",
            "python -m spacy train config.cfg --paths.train ./train.spacy --paths.dev ./dev.spacy\n"
          ]
        }
      ]
    },
    {
      "cell_type": "markdown",
      "source": [
        "### Training"
      ],
      "metadata": {
        "id": "6Dl3wDECk3Zj"
      }
    },
    {
      "cell_type": "code",
      "source": [
        "!python -m spacy train config.cfg --output ./output --paths.train ./train.spacy --paths.dev ./train.spacy"
      ],
      "metadata": {
        "colab": {
          "base_uri": "https://localhost:8080/"
        },
        "id": "h6QB2a19keu5",
        "outputId": "3c352704-ffd6-4836-b41e-26f0cedbad9e"
      },
      "execution_count": 12,
      "outputs": [
        {
          "output_type": "stream",
          "name": "stdout",
          "text": [
            "\u001b[38;5;4mℹ Saving to output directory: output\u001b[0m\n",
            "\u001b[38;5;4mℹ Using CPU\u001b[0m\n",
            "\u001b[1m\n",
            "=========================== Initializing pipeline ===========================\u001b[0m\n",
            "[2022-06-19 15:30:56,656] [INFO] Set up nlp object from config\n",
            "[2022-06-19 15:30:56,673] [INFO] Pipeline: ['tok2vec', 'ner']\n",
            "[2022-06-19 15:30:56,678] [INFO] Created vocabulary\n",
            "[2022-06-19 15:30:57,291] [WARNING] [W112] The model specified to use for initial vectors (en_core_web_sm) has no vectors. This is almost certainly a mistake.\n",
            "[2022-06-19 15:30:57,293] [INFO] Added vectors: en_core_web_sm\n",
            "[2022-06-19 15:30:57,294] [INFO] Finished initializing nlp object\n",
            "[2022-06-19 15:30:57,631] [INFO] Initialized pipeline components: ['tok2vec', 'ner']\n",
            "\u001b[38;5;2m✔ Initialized pipeline\u001b[0m\n",
            "\u001b[1m\n",
            "============================= Training pipeline =============================\u001b[0m\n",
            "\u001b[38;5;4mℹ Pipeline: ['tok2vec', 'ner']\u001b[0m\n",
            "\u001b[38;5;4mℹ Initial learn rate: 0.001\u001b[0m\n",
            "E    #       LOSS TOK2VEC  LOSS NER  ENTS_F  ENTS_P  ENTS_R  SCORE \n",
            "---  ------  ------------  --------  ------  ------  ------  ------\n",
            "  0       0          0.00     32.50   12.03    6.40  100.00    0.12\n",
            "156     200          0.38    334.73  100.00  100.00  100.00    1.00\n",
            "356     400          0.00      0.00  100.00  100.00  100.00    1.00\n",
            "556     600          0.00      0.00  100.00  100.00  100.00    1.00\n",
            "756     800          0.00      0.00  100.00  100.00  100.00    1.00\n",
            "956    1000          0.00      0.00  100.00  100.00  100.00    1.00\n",
            "1156    1200          0.00      0.00  100.00  100.00  100.00    1.00\n",
            "1356    1400          0.00      0.00  100.00  100.00  100.00    1.00\n",
            "1556    1600          0.00      0.00  100.00  100.00  100.00    1.00\n",
            "1756    1800          0.00      0.00  100.00  100.00  100.00    1.00\n",
            "\u001b[38;5;2m✔ Saved pipeline to output directory\u001b[0m\n",
            "output/model-last\n"
          ]
        }
      ]
    },
    {
      "cell_type": "markdown",
      "source": [
        "### Load Trained Model"
      ],
      "metadata": {
        "id": "UH88aMNioLk4"
      }
    },
    {
      "cell_type": "code",
      "source": [
        "nlp1 = spacy.load(r\"./output/model-best\") #load the best model"
      ],
      "metadata": {
        "id": "5Vbz8sZ3lKKj"
      },
      "execution_count": 14,
      "outputs": []
    },
    {
      "cell_type": "code",
      "source": [
        "doc = nlp1(\"Strawberry is a luscious, red fruit grown on plants belonging to the Rose or Rosaceae family.\") # input sample text\n",
        "\n",
        "doc.ents"
      ],
      "metadata": {
        "colab": {
          "base_uri": "https://localhost:8080/"
        },
        "id": "HV4oShpXoc6i",
        "outputId": "434da34e-cf36-4968-b8a1-25175a6403c7"
      },
      "execution_count": 15,
      "outputs": [
        {
          "output_type": "execute_result",
          "data": {
            "text/plain": [
              "(Strawberry,)"
            ]
          },
          "metadata": {},
          "execution_count": 15
        }
      ]
    },
    {
      "cell_type": "code",
      "source": [
        "colors = {'Fruit': \"#85C1E9\"}\n",
        "options = {\"ents\": ['Fruit'], \"colors\": colors}"
      ],
      "metadata": {
        "id": "i7sK-0GvpjTD"
      },
      "execution_count": 17,
      "outputs": []
    },
    {
      "cell_type": "code",
      "source": [
        "spacy.displacy.render(doc, style=\"ent\", jupyter=True, options=options) # display in Jupyter"
      ],
      "metadata": {
        "colab": {
          "base_uri": "https://localhost:8080/",
          "height": 52
        },
        "id": "IWZKBp-voh7Y",
        "outputId": "f4dc59f2-9153-4450-dbfc-2371e91d1433"
      },
      "execution_count": 19,
      "outputs": [
        {
          "output_type": "display_data",
          "data": {
            "text/plain": [
              "<IPython.core.display.HTML object>"
            ],
            "text/html": [
              "<span class=\"tex2jax_ignore\"><div class=\"entities\" style=\"line-height: 2.5; direction: ltr\">\n",
              "<mark class=\"entity\" style=\"background: #85C1E9; padding: 0.45em 0.6em; margin: 0 0.25em; line-height: 1; border-radius: 0.35em;\">\n",
              "    Strawberry\n",
              "    <span style=\"font-size: 0.8em; font-weight: bold; line-height: 1; border-radius: 0.35em; vertical-align: middle; margin-left: 0.5rem\">Fruit</span>\n",
              "</mark>\n",
              " is a luscious, red fruit grown on plants belonging to the Rose or Rosaceae family.</div></span>"
            ]
          },
          "metadata": {}
        }
      ]
    },
    {
      "cell_type": "code",
      "source": [
        ""
      ],
      "metadata": {
        "id": "3FHrooZ5o5o9"
      },
      "execution_count": null,
      "outputs": []
    }
  ]
}